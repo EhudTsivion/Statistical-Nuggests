{
 "cells": [
  {
   "cell_type": "markdown",
   "metadata": {},
   "source": [
    "# Calculating and plotting confidence intervals"
   ]
  },
  {
   "cell_type": "code",
   "execution_count": 1,
   "metadata": {
    "collapsed": true
   },
   "outputs": [],
   "source": [
    "%matplotlib inline\n",
    "\n",
    "from scipy.stats import norm\n",
    "import numpy as np\n",
    "import matplotlib.pyplot as plt\n",
    "\n",
    "# we wouldn't actually use seaborn\n",
    "# but it makes the plots nicer.\n",
    "import seaborn as sns\n",
    "sns.set(color_codes=True)"
   ]
  },
  {
   "cell_type": "markdown",
   "metadata": {},
   "source": [
    "The formula for confidence interval for a sample taken from a population with a known standard deviation is: $$(\\bar{x} - z^*\\frac{\\sigma}{\\sqrt{n}}, \\bar{x} + z^*\\frac{\\sigma}{\\sqrt{n}})$$\n",
    "\n",
    "where $\\sigma$ is the population standard deviation, $n$ is the sample size, $\\frac {\\sigma} {\\sqrt{n}}$ is the standard error and $\\bar{x}$ is the sample mean.\n",
    "\n",
    "$z^*$ is simply the Z-score of the upper limit (or lower limit) of the interval. How to calculate $z^*$? "
   ]
  },
  {
   "cell_type": "markdown",
   "metadata": {},
   "source": [
    "Let say we are interested in finding the 93% confidence interval. In other words, we are  intrerested in finding upper and lower limits of the normal distribution which include 93% percent of all observations. \n",
    "\n",
    "We need to exclude the distribution's upper and lower ends. Since the distribution is symmetric, we can calculate the margins which we want to exclude:"
   ]
  },
  {
   "cell_type": "code",
   "execution_count": 2,
   "metadata": {},
   "outputs": [
    {
     "name": "stdout",
     "output_type": "stream",
     "text": [
      "Margin size:  0.035%\n",
      "Upper limit:  0.965%\n",
      "Upper limit:  0.035%\n"
     ]
    }
   ],
   "source": [
    "target_confidence = 0.93\n",
    "margin = (1 - target_confidence)/2\n",
    "\n",
    "upper_limit = 1 - margin\n",
    "lower_limit = margin\n",
    "\n",
    "print('Margin size: {: 0.3f}%'.format(margin))\n",
    "print('Upper limit: {: 0.3f}%'.format(upper_limit))\n",
    "print('Upper limit: {: 0.3f}%'.format(lower_limit))"
   ]
  },
  {
   "cell_type": "markdown",
   "metadata": {},
   "source": [
    "The $z^*$ score of the upper limit of the interval should be the Z-score which holds 96.5%"
   ]
  },
  {
   "cell_type": "code",
   "execution_count": 3,
   "metadata": {},
   "outputs": [
    {
     "name": "stdout",
     "output_type": "stream",
     "text": [
      "z* = 1.812\n"
     ]
    }
   ],
   "source": [
    "z_star = norm.ppf(upper_limit)\n",
    "print('z* = {:0.4}'.format(z_star))\n"
   ]
  },
  {
   "cell_type": "markdown",
   "metadata": {},
   "source": [
    "The $z^*$ score of the lower limit of the interval should be the Z-score which holds 3.5%, but since the distribution is symmetric the $z^*$-score of the lower limit is always the negative of the upper limit:"
   ]
  },
  {
   "cell_type": "code",
   "execution_count": 4,
   "metadata": {},
   "outputs": [
    {
     "name": "stdout",
     "output_type": "stream",
     "text": [
      "lower z* = -1.812 = -z* upper\n"
     ]
    }
   ],
   "source": [
    "print('lower z* = {:0.4} = -z* upper'.format(norm.ppf(lower_limit)))"
   ]
  },
  {
   "cell_type": "markdown",
   "metadata": {},
   "source": [
    "So instead of using upper and lower $z^*$ we just use the upper $z^*$ and plug its value to the equation. "
   ]
  },
  {
   "cell_type": "markdown",
   "metadata": {},
   "source": [
    "## Some plotting\n",
    "This is an example of how to plot the confidence interval:"
   ]
  },
  {
   "cell_type": "code",
   "execution_count": 5,
   "metadata": {
    "collapsed": true
   },
   "outputs": [],
   "source": [
    "z_lower = norm.ppf(0.001)  # the 0.001 quantile  \n",
    "z_upper = norm.ppf(0.999)  # the 0.909 quantile\n",
    "z_range = np.arange(z_lower, z_upper, 0.01)"
   ]
  },
  {
   "cell_type": "code",
   "execution_count": 10,
   "metadata": {},
   "outputs": [
    {
     "data": {
      "text/plain": [
       "<matplotlib.text.Text at 0x1d063bd3c18>"
      ]
     },
     "execution_count": 10,
     "metadata": {},
     "output_type": "execute_result"
    },
    {
     "data": {
      "image/png": "[encoded data removed]",
      "text/plain": [
       "<matplotlib.figure.Figure at 0x1d063c5a400>"
      ]
     },
     "metadata": {},
     "output_type": "display_data"
    }
   ],
   "source": [
    "y = norm.pdf(z_range, loc=0, scale=1)\n",
    "\n",
    "plt.plot(z_range, y,'b-',\n",
    "         linewidth=4.0, \n",
    "         alpha=0.75)\n",
    "\n",
    "plt.fill_between(z_range, 0, y, \n",
    "                 where= (z_range > -z_star) * (z_range < z_star), \n",
    "                 facecolor='limegreen', alpha=0.5)\n",
    "\n",
    "plt.title('{}% confidence interval'.format(target_confidence*100))\n",
    "plt.xlabel('Z-Score')\n",
    "plt.ylabel('normal pdf')"
   ]
  },
  {
   "cell_type": "code",
   "execution_count": null,
   "metadata": {
    "collapsed": true
   },
   "outputs": [],
   "source": []
  }
 ],
 "metadata": {
  "kernelspec": {
   "display_name": "Python 3",
   "language": "python",
   "name": "python3"
  },
  "language_info": {
   "codemirror_mode": {
    "name": "ipython",
    "version": 3
   },
   "file_extension": ".py",
   "mimetype": "text/x-python",
   "name": "python",
   "nbconvert_exporter": "python",
   "pygments_lexer": "ipython3",
   "version": "3.5.2"
  }
 },
 "nbformat": 4,
 "nbformat_minor": 2
}
