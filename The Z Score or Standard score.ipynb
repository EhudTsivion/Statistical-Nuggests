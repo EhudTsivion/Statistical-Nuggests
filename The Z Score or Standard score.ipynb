{
 "cells": [
  {
   "cell_type": "markdown",
   "metadata": {},
   "source": [
    "# The Z score or Standard score\n",
    "In this short notebook, I'll try to explain and demonstrate the Z Score, also known as the \"Standard score\" of the normal distribution. Let us start with some standard imports, to get our python working:"
   ]
  },
  {
   "cell_type": "code",
   "execution_count": 4,
   "metadata": {
    "collapsed": true
   },
   "outputs": [],
   "source": [
    "%matplotlib inline\n",
    "\n",
    "from scipy.stats import norm"
   ]
  },
  {
   "cell_type": "markdown",
   "metadata": {
    "collapsed": true
   },
   "source": [
    "The idea behind the Z-score ($z$) is to provide a standardized, unitless (dimensionless), measure of the distance between the raw score ($x$) and the population mean ($\\mu$) in units of the standard deviation ($\\sigma$). $z$ is negative when the raw score is below the mean, positive when above. The definition of the Z-score is: $$ z = \\frac{x - \\mu} {\\sigma}$$"
   ]
  },
  {
   "cell_type": "markdown",
   "metadata": {},
   "source": [
    "Clarification :When we say \"in units of $\\mu$\" (altough $z$ is unitless) we mean that that distance between the raw score $x$ and the mean $\\mu$ or $(x - \\mu)$ is normalized to the standrad deviation $\\sigma$ by division."
   ]
  },
  {
   "cell_type": "markdown",
   "metadata": {},
   "source": [
    "### Thinking about the Z-score"
   ]
  },
  {
   "cell_type": "markdown",
   "metadata": {},
   "source": [
    "let say that we have $z=1$. It means the our raw score (the observed value) is found a distance of 1 standard deviation ($\\sigma$) above the distribution mean ($\\mu$).\n",
    "\n",
    "If we have $z=-0.5$. It means the our raw score (the observed value) is found a distance of half standard deviations ($\\sigma$) below the distribution mean ($\\mu$)."
   ]
  },
  {
   "cell_type": "markdown",
   "metadata": {},
   "source": [
    "## The standard normal table\n"
   ]
  },
  {
   "cell_type": "markdown",
   "metadata": {},
   "source": [
    "Also called the unit normal table or Z table, is a mathematical table which related the Z-score to the cumulative distribution function (cdf) of the normal distribution. The cdf is the probability that $x$ will take a value less than or equal to x.\n",
    "\n",
    "The same functionality can easily obtained from scipy.stats.norm using the function `norm.cdf` for instance, the cdf for Z=0.35 is: "
   ]
  },
  {
   "cell_type": "code",
   "execution_count": 2,
   "metadata": {},
   "outputs": [
    {
     "data": {
      "text/plain": [
       "0.6368306511756191"
      ]
     },
     "execution_count": 2,
     "metadata": {},
     "output_type": "execute_result"
    }
   ],
   "source": [
    "norm.cdf(0.35)"
   ]
  }
 ],
 "metadata": {
  "kernelspec": {
   "display_name": "Python 3",
   "language": "python",
   "name": "python3"
  },
  "language_info": {
   "codemirror_mode": {
    "name": "ipython",
    "version": 3
   },
   "file_extension": ".py",
   "mimetype": "text/x-python",
   "name": "python",
   "nbconvert_exporter": "python",
   "pygments_lexer": "ipython3",
   "version": "3.5.2"
  }
 },
 "nbformat": 4,
 "nbformat_minor": 2
}
