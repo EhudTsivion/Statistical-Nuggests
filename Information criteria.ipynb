{
 "cells": [
  {
   "cell_type": "markdown",
   "metadata": {},
   "source": [
    "# The Widely-Applicable Information Criterion (WAIC)"
   ]
  },
  {
   "cell_type": "code",
   "execution_count": 77,
   "metadata": {},
   "outputs": [],
   "source": [
    "import pandas as pd\n",
    "import pymc3 as pm\n",
    "import numpy as np\n",
    "\n",
    "from scipy.stats import norm\n",
    "from scipy.special import logsumexp\n",
    "\n",
    "import matplotlib\n",
    "%matplotlib inline"
   ]
  },
  {
   "cell_type": "markdown",
   "metadata": {},
   "source": [
    "The WAIC is defined as:\n"
   ]
  },
  {
   "cell_type": "code",
   "execution_count": 14,
   "metadata": {},
   "outputs": [
    {
     "data": {
      "text/html": [
       "<div>\n",
       "<style scoped>\n",
       "    .dataframe tbody tr th:only-of-type {\n",
       "        vertical-align: middle;\n",
       "    }\n",
       "\n",
       "    .dataframe tbody tr th {\n",
       "        vertical-align: top;\n",
       "    }\n",
       "\n",
       "    .dataframe thead th {\n",
       "        text-align: right;\n",
       "    }\n",
       "</style>\n",
       "<table border=\"1\" class=\"dataframe\">\n",
       "  <thead>\n",
       "    <tr style=\"text-align: right;\">\n",
       "      <th></th>\n",
       "      <th>speed</th>\n",
       "      <th>dist</th>\n",
       "    </tr>\n",
       "  </thead>\n",
       "  <tbody>\n",
       "    <tr>\n",
       "      <th>1</th>\n",
       "      <td>4</td>\n",
       "      <td>2</td>\n",
       "    </tr>\n",
       "    <tr>\n",
       "      <th>2</th>\n",
       "      <td>4</td>\n",
       "      <td>10</td>\n",
       "    </tr>\n",
       "    <tr>\n",
       "      <th>3</th>\n",
       "      <td>7</td>\n",
       "      <td>4</td>\n",
       "    </tr>\n",
       "    <tr>\n",
       "      <th>4</th>\n",
       "      <td>7</td>\n",
       "      <td>22</td>\n",
       "    </tr>\n",
       "    <tr>\n",
       "      <th>5</th>\n",
       "      <td>8</td>\n",
       "      <td>16</td>\n",
       "    </tr>\n",
       "  </tbody>\n",
       "</table>\n",
       "</div>"
      ],
      "text/plain": [
       "   speed  dist\n",
       "1      4     2\n",
       "2      4    10\n",
       "3      7     4\n",
       "4      7    22\n",
       "5      8    16"
      ]
     },
     "execution_count": 14,
     "metadata": {},
     "output_type": "execute_result"
    }
   ],
   "source": [
    "# read the `cars` dataset, which is standard in R\n",
    "cars = pd.read_csv('https://raw.githubusercontent.com/vincentarelbundock/Rdatasets/master/csv/datasets/cars.csv', \n",
    "                   delimiter=',',\n",
    "                   index_col=0)\n",
    "\n",
    "cars.head()"
   ]
  },
  {
   "cell_type": "code",
   "execution_count": 101,
   "metadata": {},
   "outputs": [
    {
     "name": "stderr",
     "output_type": "stream",
     "text": [
      "Auto-assigning NUTS sampler...\n",
      "Initializing NUTS using jitter+adapt_diag...\n",
      "100%|██████████| 2000/2000 [00:04<00:00, 481.05it/s]\n"
     ]
    }
   ],
   "source": [
    "model = pm.Model()\n",
    "n_samples = 1000\n",
    "\n",
    "with model:\n",
    "\n",
    "    # Priors for unknown model parameters\n",
    "    a = pm.Normal('a', mu=0, sd=100)\n",
    "    b = pm.Normal('b', mu=0, sd=10)\n",
    "    mu = a + b * cars['speed']\n",
    "\n",
    "    sigma = pm.Uniform('sigma', lower=0, upper=30)\n",
    "    \n",
    "    # Likelihood (sampling distribution) of observations\n",
    "    distance = pm.Normal('distance', mu=mu, sd=sigma, observed=cars['dist'])\n",
    "    \n",
    "    trace = pm.sample(n_samples, tune=1000)"
   ]
  },
  {
   "cell_type": "markdown",
   "metadata": {},
   "source": [
    "We now want to find the (log) probability density (logpdf) of each observation, for each point in our posterior estimates."
   ]
  },
  {
   "cell_type": "code",
   "execution_count": 118,
   "metadata": {},
   "outputs": [
    {
     "data": {
      "text/plain": [
       "419.68115311406956"
      ]
     },
     "execution_count": 118,
     "metadata": {},
     "output_type": "execute_result"
    }
   ],
   "source": [
    "cars['loglikelihood'] = np.zeros(len(cars))\n",
    "\n",
    "ll_var = 0\n",
    "m_loglike = 0\n",
    "\n",
    "# for each observation i:\n",
    "for i, (distance, speed, ll) in enumerate(zip(cars['dist'], cars['speed'], cars['loglikelihood'])):\n",
    "        \n",
    "    mu = trace['a'] + speed * trace['b']\n",
    "    sigma = trace['sigma']\n",
    "    \n",
    "    #calculate the log-likelihood\n",
    "    loglike = norm.logpdf(distance, loc=mu, scale=sigma)\n",
    "#     m_loglike += np.log(np.mean(np.exp(loglike)))\n",
    "    #  m_loglike += logsumexp(loglike) - np.log(n_samples)\n",
    "    \n",
    "    like = norm.pdf(distance, loc=mu, scale=sigma)\n",
    "    m_loglike += np.log(np.mean(like))\n",
    "\n",
    "        \n",
    "    \n",
    "    ll_var += np.var(loglike)\n",
    "    \n",
    "-2*(m_loglike - ll_var)"
   ]
  },
  {
   "cell_type": "markdown",
   "metadata": {},
   "source": [
    "## A comment about precision\n",
    "Since logpdf is a small quantity, calculating the mean of the log likelihood is less accurate:\n",
    "$$ mean(LogLiklihood) = \\frac{\\sum_{n}loglike_n}{n} $$\n",
    "We can use the `scipy.special.logsumexp` function, which sums the exponentials of the log-likelihood (which is just the likelihood) in this way:"
   ]
  },
  {
   "cell_type": "markdown",
   "metadata": {},
   "source": [
    "$$\\frac{\\sum_{n}loglike_n}{n} = \\log (\\frac{\\sum_{n}\\exp(loglike_n)}{n}) = \\log (\\sum_{n}\\exp(loglike_n)) - \\log(n))$$"
   ]
  },
  {
   "cell_type": "code",
   "execution_count": null,
   "metadata": {
    "collapsed": true
   },
   "outputs": [],
   "source": []
  }
 ],
 "metadata": {
  "kernelspec": {
   "display_name": "Python 3",
   "language": "python",
   "name": "python3"
  },
  "language_info": {
   "codemirror_mode": {
    "name": "ipython",
    "version": 3
   },
   "file_extension": ".py",
   "mimetype": "text/x-python",
   "name": "python",
   "nbconvert_exporter": "python",
   "pygments_lexer": "ipython3",
   "version": "3.5.2"
  }
 },
 "nbformat": 4,
 "nbformat_minor": 2
}
