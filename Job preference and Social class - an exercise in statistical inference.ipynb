{
 "cells": [
  {
   "cell_type": "markdown",
   "metadata": {},
   "source": [
    "# Exploring the relation Social states and job preferences\n",
    "###  An exercise in statistical inference with the GSS data"
   ]
  },
  {
   "cell_type": "markdown",
   "metadata": {},
   "source": [
    "## About the data"
   ]
  },
  {
   "cell_type": "markdown",
   "metadata": {},
   "source": [
    "General: The General Social Survey (GSS) gathers data on contemporary American society to monitor and explain trends and constants in attitudes, behaviors, and attributes. The GSS contains a standard core of demographic, behavioral, and attitudinal questions, plus topics of special interest. Among the topics covered are civil liberties, crime and violence, intergroup tolerance, morality, national spending priorities, psychological well-being, social mobility, and stress and traumatic events. [Source](http://gss.norc.org/About-The-GSS)"
   ]
  },
  {
   "cell_type": "markdown",
   "metadata": {},
   "source": [
    "Data collection methodology: The target population of the GSS is adults (18+) living in households in the United States. The GSS sample is drawn using an area probability design that randomly selects respondents in households across the United States to take part in the survey. Respondents that become part of the GSS sample are from a mix of urban, suburban, and rural geographic areas. Participation in the study is voluntary. The survey is conducted face-to-face with an in-person interview which takes about 90 minutes to administer. [Source](https://en.wikipedia.org/wiki/General_Social_Survey#Methodology)"
   ]
  },
  {
   "cell_type": "markdown",
   "metadata": {},
   "source": [
    "Scope of inference: By survey design, the scope of inference is the entire adult population of the United States. However, the survey was translated and administered in Spanish starting only at 2006 and therefore and therefore inference can be carried for Spanish speaking population, prior to 2006. Also, the GSS cannot be used to establish causality between two factors, however, it can be used to establish association between various factors."
   ]
  },
  {
   "cell_type": "markdown",
   "metadata": {},
   "source": [
    "## Research question"
   ]
  },
  {
   "cell_type": "markdown",
   "metadata": {},
   "source": [
    "I am interested in the association between social class with respect to job related preferences in general and to job security in particular. My basic assumption (or null hypothesis if you wish) is that survey participants from lower social class would prefer jobs with higher payment or stability, while participants from high social class would prefer jobs with which provide more satisfaction or interest."
   ]
  },
  {
   "cell_type": "markdown",
   "metadata": {},
   "source": [
    "This question is interesting because it could help predict trends in jobs market as well as career expectations for future generations which gradually become richer and are less concerned with the challenges of \"survival\" which are more typical for the lower classes."
   ]
  },
  {
   "cell_type": "markdown",
   "metadata": {},
   "source": [
    "## Exploratory data analysis (EDA)"
   ]
  },
  {
   "cell_type": "markdown",
   "metadata": {},
   "source": [
    "We begin with loading the data as well as other important libraries:"
   ]
  },
  {
   "cell_type": "code",
   "execution_count": 1,
   "metadata": {
    "collapsed": true
   },
   "outputs": [],
   "source": [
    "load('gss.Rdata')\n",
    "# realy hard work here to supress annoying messages\n",
    "suppressWarnings(library(ggplot2))\n",
    "suppressPackageStartupMessages(suppressWarnings(library(dplyr)))\n",
    "suppressPackageStartupMessages(suppressWarnings(library(gridExtra)))\n",
    "library(statsr)"
   ]
  },
  {
   "cell_type": "markdown",
   "metadata": {},
   "source": [
    "Ideally, we would want to print summary statistics, however, the GSS data is so large to the extent that that wouldn't be useful in this stage. We will start by generating a subset of the data which contains only the variables of interest to us. We will look at:\n",
    "\n",
    "1. `jobinc`: Importance of high income.\n",
    "2. `jobsec`: Importance of no danger of being fired.\n",
    "3. `jobpromo`: Importance of change for advancement.\n",
    "4. `jobmeams`: Importance of work importance and accomplishment.\n",
    "5. `class`: Subjective class identification."
   ]
  },
  {
   "cell_type": "markdown",
   "metadata": {},
   "source": [
    "Let's generate a new data frame `gss_job` and look at its summary statistics:"
   ]
  },
  {
   "cell_type": "code",
   "execution_count": 2,
   "metadata": {
    "collapsed": true
   },
   "outputs": [],
   "source": [
    "gss_job = gss %>%\n",
    "    select(jobinc, jobsec, jobpromo, jobmeans, class)"
   ]
  },
  {
   "cell_type": "code",
   "execution_count": 3,
   "metadata": {},
   "outputs": [
    {
     "data": {
      "text/plain": [
       "       jobinc            jobsec           jobpromo          jobmeans    \n",
       " Most Impt: 4429   Most Impt: 1739   Most Impt: 3810   Most Impt: 9641  \n",
       " Second   : 4974   Second   : 2781   Second   : 7082   Second   : 3899  \n",
       " Third    : 6034   Third    : 4133   Third    : 4824   Third    : 3245  \n",
       " Fourth   : 3607   Fourth   : 6516   Fourth   : 3085   Fourth   : 2450  \n",
       " Fifth    : 1528   Fifth    : 5405   Fifth    : 1769   Fifth    : 1333  \n",
       " NA's     :36489   NA's     :36487   NA's     :36491   NA's     :36493  \n",
       "           class      \n",
       " Lower Class  : 3147  \n",
       " Working Class:24458  \n",
       " Middle Class :24289  \n",
       " Upper Class  : 1741  \n",
       " No Class     :    1  \n",
       " NA's         : 3425  "
      ]
     },
     "metadata": {},
     "output_type": "display_data"
    }
   ],
   "source": [
    "summary(gss_job)"
   ]
  },
  {
   "cell_type": "markdown",
   "metadata": {},
   "source": [
    "At first look it seems that there is sufficient data for each one of the variables to provide statistically meaningful results. To simplify things, let us remove all observations with missing data: "
   ]
  },
  {
   "cell_type": "code",
   "execution_count": 4,
   "metadata": {
    "collapsed": true
   },
   "outputs": [],
   "source": [
    "gss_job = na.omit(gss_job) "
   ]
  },
  {
   "cell_type": "markdown",
   "metadata": {},
   "source": [
    "Let's plot the distribution of all job-related variables:"
   ]
  },
  {
   "cell_type": "code",
   "execution_count": 5,
   "metadata": {
    "collapsed": true
   },
   "outputs": [],
   "source": [
    "gr_inc = ggplot(gss_job, aes(jobinc, fill=jobinc)) + geom_bar() + labs(title = \"Income\") + guides(fill=FALSE)\n",
    "gr_sec = ggplot(gss_job, aes(jobsec, fill=jobsec)) + geom_bar() + labs(title = \"Security\") + guides(fill=FALSE)\n",
    "gr_promo = ggplot(gss_job, aes(jobpromo, fill=jobpromo)) + geom_bar() + labs(title = \"Promotion\") + guides(fill=FALSE)\n",
    "gr_means = ggplot(gss_job, aes(jobmeans, fill=jobmeans)) + geom_bar() + labs(title = \"Meaning\") + guides(fill=FALSE)"
   ]
  },
  {
   "cell_type": "code",
   "execution_count": 6,
   "metadata": {},
   "outputs": [
    {
     "data": {
      "image/png": "[encoded data removed]",
      "text/plain": [
       "plot without title"
      ]
     },
     "metadata": {},
     "output_type": "display_data"
    }
   ],
   "source": [
    "grid.arrange(gr_inc, gr_sec, gr_promo, gr_means, ncol=2, nrow =2)"
   ]
  },
  {
   "cell_type": "markdown",
   "metadata": {},
   "source": [
    "Summary of observations: Compared to all other variables we've looked at, it seems that heaving a meaningful job is very important. On the contrary, having job security seems to be of lesser importance. Hight income is of moderate to high importance as well as the possibly of job promotion."
   ]
  },
  {
   "cell_type": "markdown",
   "metadata": {},
   "source": [
    "Let us now look at the median values using the `class` variable as grouping variable. In the following table the values range between 1 (most important) to 5 (less important):"
   ]
  },
  {
   "cell_type": "code",
   "execution_count": 7,
   "metadata": {},
   "outputs": [
    {
     "data": {
      "text/html": [
       "<table>\n",
       "<thead><tr><th scope=col>class</th><th scope=col>income</th><th scope=col>security</th><th scope=col>promotion</th><th scope=col>meaning</th><th scope=col>count</th></tr></thead>\n",
       "<tbody>\n",
       "\t<tr><td>Lower Class  </td><td>2            </td><td>3            </td><td>3            </td><td>2.0          </td><td> 884         </td></tr>\n",
       "\t<tr><td>Working Class</td><td>3            </td><td>4            </td><td>2            </td><td>2.0          </td><td>8366         </td></tr>\n",
       "\t<tr><td>Middle Class </td><td>3            </td><td>4            </td><td>2            </td><td>1.0          </td><td>8414         </td></tr>\n",
       "\t<tr><td>Upper Class  </td><td>3            </td><td>4            </td><td>3            </td><td>1.5          </td><td> 566         </td></tr>\n",
       "\t<tr><td>No Class     </td><td>4            </td><td>3            </td><td>2            </td><td>1.0          </td><td>   1         </td></tr>\n",
       "</tbody>\n",
       "</table>\n"
      ],
      "text/latex": [
       "\\begin{tabular}{r|llllll}\n",
       " class & income & security & promotion & meaning & count\\\\\n",
       "\\hline\n",
       "\t Lower Class   & 2             & 3             & 3             & 2.0           &  884         \\\\\n",
       "\t Working Class & 3             & 4             & 2             & 2.0           & 8366         \\\\\n",
       "\t Middle Class  & 3             & 4             & 2             & 1.0           & 8414         \\\\\n",
       "\t Upper Class   & 3             & 4             & 3             & 1.5           &  566         \\\\\n",
       "\t No Class      & 4             & 3             & 2             & 1.0           &    1         \\\\\n",
       "\\end{tabular}\n"
      ],
      "text/markdown": [
       "\n",
       "class | income | security | promotion | meaning | count | \n",
       "|---|---|---|---|---|\n",
       "| Lower Class   | 2             | 3             | 3             | 2.0           |  884          | \n",
       "| Working Class | 3             | 4             | 2             | 2.0           | 8366          | \n",
       "| Middle Class  | 3             | 4             | 2             | 1.0           | 8414          | \n",
       "| Upper Class   | 3             | 4             | 3             | 1.5           |  566          | \n",
       "| No Class      | 4             | 3             | 2             | 1.0           |    1          | \n",
       "\n",
       "\n"
      ],
      "text/plain": [
       "  class         income security promotion meaning count\n",
       "1 Lower Class   2      3        3         2.0      884 \n",
       "2 Working Class 3      4        2         2.0     8366 \n",
       "3 Middle Class  3      4        2         1.0     8414 \n",
       "4 Upper Class   3      4        3         1.5      566 \n",
       "5 No Class      4      3        2         1.0        1 "
      ]
     },
     "metadata": {},
     "output_type": "display_data"
    }
   ],
   "source": [
    "gss_job %>%\n",
    "    group_by(class) %>%\n",
    "    summarise(income = median(as.numeric(jobinc)), \n",
    "              security = median(as.numeric(jobsec)),\n",
    "              promotion = median(as.numeric(jobpromo)),\n",
    "              meaning = median(as.numeric(jobmeans)),\n",
    "              count = n())"
   ]
  },
  {
   "cell_type": "markdown",
   "metadata": {},
   "source": [
    "It can be seen in the table that job income a security is more important for the lower class, while having a meaningful job is more important for the middle and upper classes.\n",
    "\n",
    "Let us also look at the means:"
   ]
  },
  {
   "cell_type": "code",
   "execution_count": 8,
   "metadata": {},
   "outputs": [
    {
     "data": {
      "text/html": [
       "<table>\n",
       "<thead><tr><th scope=col>class</th><th scope=col>income</th><th scope=col>security</th><th scope=col>promotion</th><th scope=col>meaning</th><th scope=col>count</th></tr></thead>\n",
       "<tbody>\n",
       "\t<tr><td>Lower Class  </td><td>2.426471     </td><td>3.223982     </td><td>2.778281     </td><td>2.591629     </td><td> 884         </td></tr>\n",
       "\t<tr><td>Working Class</td><td>2.620727     </td><td>3.410471     </td><td>2.599570     </td><td>2.237868     </td><td>8366         </td></tr>\n",
       "\t<tr><td>Middle Class </td><td>2.726171     </td><td>3.693725     </td><td>2.569170     </td><td>1.937010     </td><td>8414         </td></tr>\n",
       "\t<tr><td>Upper Class  </td><td>2.510601     </td><td>3.780919     </td><td>2.676678     </td><td>2.022968     </td><td> 566         </td></tr>\n",
       "\t<tr><td>No Class     </td><td>4.000000     </td><td>3.000000     </td><td>2.000000     </td><td>1.000000     </td><td>   1         </td></tr>\n",
       "</tbody>\n",
       "</table>\n"
      ],
      "text/latex": [
       "\\begin{tabular}{r|llllll}\n",
       " class & income & security & promotion & meaning & count\\\\\n",
       "\\hline\n",
       "\t Lower Class   & 2.426471      & 3.223982      & 2.778281      & 2.591629      &  884         \\\\\n",
       "\t Working Class & 2.620727      & 3.410471      & 2.599570      & 2.237868      & 8366         \\\\\n",
       "\t Middle Class  & 2.726171      & 3.693725      & 2.569170      & 1.937010      & 8414         \\\\\n",
       "\t Upper Class   & 2.510601      & 3.780919      & 2.676678      & 2.022968      &  566         \\\\\n",
       "\t No Class      & 4.000000      & 3.000000      & 2.000000      & 1.000000      &    1         \\\\\n",
       "\\end{tabular}\n"
      ],
      "text/markdown": [
       "\n",
       "class | income | security | promotion | meaning | count | \n",
       "|---|---|---|---|---|\n",
       "| Lower Class   | 2.426471      | 3.223982      | 2.778281      | 2.591629      |  884          | \n",
       "| Working Class | 2.620727      | 3.410471      | 2.599570      | 2.237868      | 8366          | \n",
       "| Middle Class  | 2.726171      | 3.693725      | 2.569170      | 1.937010      | 8414          | \n",
       "| Upper Class   | 2.510601      | 3.780919      | 2.676678      | 2.022968      |  566          | \n",
       "| No Class      | 4.000000      | 3.000000      | 2.000000      | 1.000000      |    1          | \n",
       "\n",
       "\n"
      ],
      "text/plain": [
       "  class         income   security promotion meaning  count\n",
       "1 Lower Class   2.426471 3.223982 2.778281  2.591629  884 \n",
       "2 Working Class 2.620727 3.410471 2.599570  2.237868 8366 \n",
       "3 Middle Class  2.726171 3.693725 2.569170  1.937010 8414 \n",
       "4 Upper Class   2.510601 3.780919 2.676678  2.022968  566 \n",
       "5 No Class      4.000000 3.000000 2.000000  1.000000    1 "
      ]
     },
     "metadata": {},
     "output_type": "display_data"
    }
   ],
   "source": [
    "gss_job %>%\n",
    "    group_by(class) %>%\n",
    "    summarise(income = mean(as.numeric(jobinc)), \n",
    "              security = mean(as.numeric(jobsec)),\n",
    "              promotion = mean(as.numeric(jobpromo)),\n",
    "              meaning = mean(as.numeric(jobmeans)),\n",
    "              count = n())"
   ]
  },
  {
   "cell_type": "markdown",
   "metadata": {},
   "source": [
    "Meaningful work is less important for lower class (mean = 2.6) and more important for upper and middle class (means = 2.0 and 1.9 respectively). Also, job security and income are important for the lower class (mean = 3.2 and 2.4) and less important for upper class (mean = 3.8 and 2.5)."
   ]
  },
  {
   "cell_type": "markdown",
   "metadata": {},
   "source": [
    "## Inferenece"
   ]
  },
  {
   "cell_type": "markdown",
   "metadata": {},
   "source": [
    "From our EDA it seems as there are evidence that job security (not being fired) is associated with social class where lower classes hold that job security is of higher importance than the upper class. I am interested in performing statistical analysis to quantify whether there is significant evidence for that or in more statistical terms: is there association between `jobinc` and `class`. It is also interesting to look at importance of having a meaningful job `jobmeans` - so we'll also do that."
   ]
  },
  {
   "cell_type": "markdown",
   "metadata": {},
   "source": [
    "The null hypothesis is that there is that the importance of job security is equal for all, regardless of their social class (no association). The alternative hypothesis is that job security significantly differs between the social classes:\n",
    "\n",
    "$\\mu_0$ = job security is equally important for people of all social classes (`jobsec` and `class` are not associated)\n",
    "\n",
    "$\\mu_1$ = job security is different for people of different social classes (`jobsec` and `class` are associated)"
   ]
  },
  {
   "cell_type": "markdown",
   "metadata": {},
   "source": [
    "Since the observations are categorical with more than two levels, we will use the \"chi-square ($\\chi^2$) test of independence\" test. Let us check the conditions:\n",
    "1. Observations independence: The observations are taken from un-correlated individuals and are therefore independent.\n",
    "2. Expected counts (minimum 5): There are at least 566 observations.\n",
    "3. Degrees of freedom (minimum 2): There are 5 possible answers for importance and 5 different social class, such that there are $(5-1)\\dot(5-1)=16$ degrees of freedom.\n",
    "\n",
    "All requirements for the $\\chi^2$ test are met. We can go ahead to do the inference:"
   ]
  },
  {
   "cell_type": "code",
   "execution_count": 9,
   "metadata": {},
   "outputs": [
    {
     "name": "stderr",
     "output_type": "stream",
     "text": [
      "Warning message:\n",
      "\"Ignoring null value since it's undefined for chi-square test of independence\"Warning message in chisq.test(x, y, correct = FALSE):\n",
      "\"Chi-squared approximation may be incorrect\""
     ]
    },
    {
     "name": "stdout",
     "output_type": "stream",
     "text": [
      "Response variable: categorical (5 levels) \n",
      "Explanatory variable: categorical (5 levels) \n",
      "Observed:\n",
      "               y\n",
      "x               Most Impt Second Third Fourth Fifth\n",
      "  Lower Class         105    169   196    251   163\n",
      "  Working Class       793   1287  1823   2619  1844\n",
      "  Middle Class        574    918  1565   2811  2546\n",
      "  Upper Class          33     65    90    183   195\n",
      "  No Class              0      0     1      0     0\n",
      "\n",
      "Expected:\n",
      "               y\n",
      "x                 Most Impt       Second        Third       Fourth        Fifth\n",
      "  Lower Class    72.9757007  118.2642751  178.1964785  284.3385442  230.2250014\n",
      "  Working Class 690.6275026 1119.2295541 1686.4159947 2690.9233723 2178.8035763\n",
      "  Middle Class  694.5899841 1125.6511437 1696.0918216 2706.3625693 2191.3044814\n",
      "  Upper Class    46.7242609   75.7212440  114.0941254  182.0538643  147.4065054\n",
      "  No Class        0.0825517    0.1337831    0.2015797    0.3216499    0.2604355\n",
      "\n",
      "H0: class and jobsec are independent\n",
      "HA: class and jobsec are dependent\n",
      "chi_sq = 326.6934, df = 16, p_value = 0\n"
     ]
    },
    {
     "data": {
      "image/png": "[encoded data removed]",
      "text/plain": [
       "plot without title"
      ]
     },
     "metadata": {},
     "output_type": "display_data"
    }
   ],
   "source": [
    "inference(jobsec, class, data=gss_job, type = \"ht\", method = \"theoretical\", alternative=\"greater\", null=0, statistic = \"proportion\")"
   ]
  },
  {
   "cell_type": "markdown",
   "metadata": {},
   "source": [
    "Since the p-value is close to zero, we can reject the null hypothesis that the importance of job security is independent of social class."
   ]
  },
  {
   "cell_type": "markdown",
   "metadata": {},
   "source": [
    "Now, let's do the same hypothesis test also for `jobmeans` (importance and accomplishment):"
   ]
  },
  {
   "cell_type": "code",
   "execution_count": 10,
   "metadata": {},
   "outputs": [
    {
     "name": "stderr",
     "output_type": "stream",
     "text": [
      "Warning message:\n",
      "\"Ignoring null value since it's undefined for chi-square test of independence\"Warning message in chisq.test(x, y, correct = FALSE):\n",
      "\"Chi-squared approximation may be incorrect\""
     ]
    },
    {
     "name": "stdout",
     "output_type": "stream",
     "text": [
      "Response variable: categorical (5 levels) \n",
      "Explanatory variable: categorical (5 levels) \n",
      "Observed:\n",
      "               y\n",
      "x               Most Impt Second Third Fourth Fifth\n",
      "  Lower Class         284    164   175    151   110\n",
      "  Working Class      3597   1584  1415   1138   632\n",
      "  Middle Class       4449   1597  1202    781   385\n",
      "  Upper Class         283    115    76     56    36\n",
      "  No Class              1      0     0      0     0\n",
      "\n",
      "Expected:\n",
      "               y\n",
      "x                  Most Impt       Second        Third      Fourth        Fifth\n",
      "  Lower Class    417.6828479  167.7713784  139.0659865 103.0872689  56.39251824\n",
      "  Working Class 3952.8673139 1587.7549229 1316.0928090 975.5973891 533.68756514\n",
      "  Middle Class  3975.5469256 1596.8646810 1323.6439032 981.1948878 536.74960233\n",
      "  Upper Class    267.4304207  107.4192310   89.0399868  66.0038396  36.10652186\n",
      "  No Class         0.4724919    0.1897866    0.1573145   0.1166146   0.06379244\n",
      "\n",
      "H0: class and jobmeans are independent\n",
      "HA: class and jobmeans are dependent\n",
      "chi_sq = 367.3059, df = 16, p_value = 0\n"
     ]
    },
    {
     "data": {
      "image/png": "[encoded data removed]",
      "text/plain": [
       "plot without title"
      ]
     },
     "metadata": {},
     "output_type": "display_data"
    }
   ],
   "source": [
    "inference(jobmeans, class, data=gss_job, type = \"ht\", method = \"theoretical\", alternative=\"greater\", null=0, statistic = \"proportion\")"
   ]
  },
  {
   "cell_type": "markdown",
   "metadata": {},
   "source": [
    "Again, since the p-value is close to zero, we can reject the null hypothesis that `jobmenas` is independent of social class.\n",
    "\n",
    "We conclude by stating that there is strong evidence that a person’s job preferences (job security and importance and accomplishment) are associated to his social class."
   ]
  },
  {
   "cell_type": "markdown",
   "metadata": {},
   "source": [
    "--------------"
   ]
  },
  {
   "cell_type": "markdown",
   "metadata": {},
   "source": [
    "As a closing comment, the same $\\chi^2$ test of independence can be performed using the `chisq` command:"
   ]
  },
  {
   "cell_type": "code",
   "execution_count": 11,
   "metadata": {},
   "outputs": [
    {
     "name": "stderr",
     "output_type": "stream",
     "text": [
      "Warning message in chisq.test(gss_job$class, gss_job$jobsec):\n",
      "\"Chi-squared approximation may be incorrect\""
     ]
    },
    {
     "data": {
      "text/plain": [
       "\n",
       "\tPearson's Chi-squared test\n",
       "\n",
       "data:  gss_job$class and gss_job$jobsec\n",
       "X-squared = 326.69, df = 16, p-value < 2.2e-16\n"
      ]
     },
     "metadata": {},
     "output_type": "display_data"
    }
   ],
   "source": [
    "chisq.test(gss_job$class, gss_job$jobsec)"
   ]
  }
 ],
 "metadata": {
  "kernelspec": {
   "display_name": "R",
   "language": "R",
   "name": "ir"
  },
  "language_info": {
   "codemirror_mode": "r",
   "file_extension": ".r",
   "mimetype": "text/x-r-source",
   "name": "R",
   "pygments_lexer": "r",
   "version": "3.3.2"
  }
 },
 "nbformat": 4,
 "nbformat_minor": 2
}
