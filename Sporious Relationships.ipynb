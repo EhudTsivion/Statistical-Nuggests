{
 "cells": [
  {
   "cell_type": "markdown",
   "metadata": {
    "collapsed": true
   },
   "source": [
    "# Sporious Relationships"
   ]
  },
  {
   "cell_type": "code",
   "execution_count": 1,
   "metadata": {},
   "outputs": [
    {
     "name": "stderr",
     "output_type": "stream",
     "text": [
      "/home/nbuser/anaconda3_501/lib/python3.6/site-packages/statsmodels/compat/pandas.py:56: FutureWarning: The pandas.core.datetools module is deprecated and will be removed in a future version. Please use the pandas.tseries module instead.\n",
      "  from pandas.core import datetools\n"
     ]
    }
   ],
   "source": [
    "from scipy.stats import norm\n",
    "import seaborn as sns\n",
    "import pandas as pd\n",
    "import matplotlib.pyplot as plt\n",
    "import statsmodels.api as sm\n",
    "from patsy import dmatrices\n",
    "%matplotlib inline"
   ]
  },
  {
   "cell_type": "markdown",
   "metadata": {},
   "source": [
    "## Introduction\n",
    "a spurious relationship or spurious correlation is a mathematical relationship in which two or more events or variables are not causally related to each other, yet it may be wrongly inferred that they are, due to either coincidence or the presence of a certain third, unseen factor. [Wikipedia](https://en.wikipedia.org/wiki/Spurious_relationship)"
   ]
  },
  {
   "cell_type": "markdown",
   "metadata": {},
   "source": [
    "### Case 1: Antecedent (common cause)\n",
    "A non-causal correlation can be spuriously created by an antecedent (W) which causes both  X and Y (W → X and W → Y). \n",
    "\n",
    "Example: Economic grows (W) results in home construction bulding growth (X) and jewelry sales grows (Y).  \n",
    "\n",
    "Lets simulate that:"
   ]
  },
  {
   "cell_type": "code",
   "execution_count": 2,
   "metadata": {},
   "outputs": [],
   "source": [
    "N = 500\n",
    "df = pd.DataFrame()\n",
    "df['W'] = norm.rvs(size=N)"
   ]
  },
  {
   "cell_type": "code",
   "execution_count": 3,
   "metadata": {},
   "outputs": [],
   "source": [
    "a = 5\n",
    "b = 0.5\n",
    "df['X'] = a + b * norm.rvs(size=N, loc=df['W'])\n",
    "df['Y'] = a + b * norm.rvs(size=N, loc=df['W'])"
   ]
  },
  {
   "cell_type": "markdown",
   "metadata": {},
   "source": [
    "Let's look at the linear relation between W and X, which should be similar to W and Y:"
   ]
  },
  {
   "cell_type": "code",
   "execution_count": 4,
   "metadata": {},
   "outputs": [
    {
     "data": {
      "text/html": [
       "<table class=\"simpletable\">\n",
       "<tr>\n",
       "        <td>Model:</td>               <td>OLS</td>         <td>Adj. R-squared:</td>     <td>0.491</td> \n",
       "</tr>\n",
       "<tr>\n",
       "  <td>Dependent Variable:</td>         <td>Y</td>               <td>AIC:</td>         <td>734.2489</td>\n",
       "</tr>\n",
       "<tr>\n",
       "         <td>Date:</td>        <td>2017-11-20 11:02</td>        <td>BIC:</td>         <td>742.6781</td>\n",
       "</tr>\n",
       "<tr>\n",
       "   <td>No. Observations:</td>         <td>500</td>         <td>Log-Likelihood:</td>    <td>-365.12</td>\n",
       "</tr>\n",
       "<tr>\n",
       "       <td>Df Model:</td>              <td>1</td>           <td>F-statistic:</td>       <td>482.3</td> \n",
       "</tr>\n",
       "<tr>\n",
       "     <td>Df Residuals:</td>           <td>498</td>       <td>Prob (F-statistic):</td> <td>2.91e-75</td>\n",
       "</tr>\n",
       "<tr>\n",
       "      <td>R-squared:</td>            <td>0.492</td>            <td>Scale:</td>         <td>0.25325</td>\n",
       "</tr>\n",
       "</table>\n",
       "<table class=\"simpletable\">\n",
       "<tr>\n",
       "      <td></td>       <th>Coef.</th> <th>Std.Err.</th>     <th>t</th>     <th>P>|t|</th> <th>[0.025</th> <th>0.975]</th>\n",
       "</tr>\n",
       "<tr>\n",
       "  <th>Intercept</th> <td>4.9998</td>  <td>0.0225</td>  <td>222.0567</td> <td>0.0000</td> <td>4.9556</td> <td>5.0440</td>\n",
       "</tr>\n",
       "<tr>\n",
       "  <th>W</th>         <td>0.5134</td>  <td>0.0234</td>   <td>21.9622</td> <td>0.0000</td> <td>0.4674</td> <td>0.5593</td>\n",
       "</tr>\n",
       "</table>\n",
       "<table class=\"simpletable\">\n",
       "<tr>\n",
       "     <td>Omnibus:</td>    <td>1.143</td>  <td>Durbin-Watson:</td>   <td>2.088</td>\n",
       "</tr>\n",
       "<tr>\n",
       "  <td>Prob(Omnibus):</td> <td>0.565</td> <td>Jarque-Bera (JB):</td> <td>1.186</td>\n",
       "</tr>\n",
       "<tr>\n",
       "       <td>Skew:</td>     <td>0.054</td>     <td>Prob(JB):</td>     <td>0.553</td>\n",
       "</tr>\n",
       "<tr>\n",
       "     <td>Kurtosis:</td>   <td>2.788</td>  <td>Condition No.:</td>     <td>1</td>  \n",
       "</tr>\n",
       "</table>"
      ],
      "text/plain": [
       "<class 'statsmodels.iolib.summary2.Summary'>\n",
       "\"\"\"\n",
       "                 Results: Ordinary least squares\n",
       "=================================================================\n",
       "Model:              OLS              Adj. R-squared:     0.491   \n",
       "Dependent Variable: Y                AIC:                734.2489\n",
       "Date:               2017-11-20 11:02 BIC:                742.6781\n",
       "No. Observations:   500              Log-Likelihood:     -365.12 \n",
       "Df Model:           1                F-statistic:        482.3   \n",
       "Df Residuals:       498              Prob (F-statistic): 2.91e-75\n",
       "R-squared:          0.492            Scale:              0.25325 \n",
       "-------------------------------------------------------------------\n",
       "            Coef.    Std.Err.      t       P>|t|    [0.025   0.975]\n",
       "-------------------------------------------------------------------\n",
       "Intercept   4.9998     0.0225   222.0567   0.0000   4.9556   5.0440\n",
       "W           0.5134     0.0234    21.9622   0.0000   0.4674   0.5593\n",
       "-----------------------------------------------------------------\n",
       "Omnibus:              1.143        Durbin-Watson:           2.088\n",
       "Prob(Omnibus):        0.565        Jarque-Bera (JB):        1.186\n",
       "Skew:                 0.054        Prob(JB):                0.553\n",
       "Kurtosis:             2.788        Condition No.:           1    \n",
       "=================================================================\n",
       "\n",
       "\"\"\""
      ]
     },
     "execution_count": 4,
     "metadata": {},
     "output_type": "execute_result"
    }
   ],
   "source": [
    "Y, W = dmatrices('Y ~ W', data=df)\n",
    "mod = sm.OLS(Y, W)\n",
    "res = mod.fit()\n",
    "res.summary2()"
   ]
  },
  {
   "cell_type": "markdown",
   "metadata": {},
   "source": [
    "And now look at the relationship between Y and X:"
   ]
  },
  {
   "cell_type": "code",
   "execution_count": 5,
   "metadata": {},
   "outputs": [
    {
     "data": {
      "text/html": [
       "<table class=\"simpletable\">\n",
       "<tr>\n",
       "        <td>Model:</td>               <td>OLS</td>         <td>Adj. R-squared:</td>     <td>0.248</td> \n",
       "</tr>\n",
       "<tr>\n",
       "  <td>Dependent Variable:</td>         <td>Y</td>               <td>AIC:</td>         <td>929.4226</td>\n",
       "</tr>\n",
       "<tr>\n",
       "         <td>Date:</td>        <td>2017-11-20 11:02</td>        <td>BIC:</td>         <td>937.8518</td>\n",
       "</tr>\n",
       "<tr>\n",
       "   <td>No. Observations:</td>         <td>500</td>         <td>Log-Likelihood:</td>    <td>-462.71</td>\n",
       "</tr>\n",
       "<tr>\n",
       "       <td>Df Model:</td>              <td>1</td>           <td>F-statistic:</td>       <td>165.5</td> \n",
       "</tr>\n",
       "<tr>\n",
       "     <td>Df Residuals:</td>           <td>498</td>       <td>Prob (F-statistic):</td> <td>6.63e-33</td>\n",
       "</tr>\n",
       "<tr>\n",
       "      <td>R-squared:</td>            <td>0.249</td>            <td>Scale:</td>         <td>0.37418</td>\n",
       "</tr>\n",
       "</table>\n",
       "<table class=\"simpletable\">\n",
       "<tr>\n",
       "      <td></td>       <th>Coef.</th> <th>Std.Err.</th>    <th>t</th>     <th>P>|t|</th> <th>[0.025</th> <th>0.975]</th>\n",
       "</tr>\n",
       "<tr>\n",
       "  <th>Intercept</th> <td>2.3735</td>  <td>0.2048</td>  <td>11.5885</td> <td>0.0000</td> <td>1.9711</td> <td>2.7759</td>\n",
       "</tr>\n",
       "<tr>\n",
       "  <th>X</th>         <td>0.5265</td>  <td>0.0409</td>  <td>12.8652</td> <td>0.0000</td> <td>0.4461</td> <td>0.6069</td>\n",
       "</tr>\n",
       "</table>\n",
       "<table class=\"simpletable\">\n",
       "<tr>\n",
       "     <td>Omnibus:</td>    <td>0.459</td>  <td>Durbin-Watson:</td>   <td>2.112</td>\n",
       "</tr>\n",
       "<tr>\n",
       "  <td>Prob(Omnibus):</td> <td>0.795</td> <td>Jarque-Bera (JB):</td> <td>0.488</td>\n",
       "</tr>\n",
       "<tr>\n",
       "       <td>Skew:</td>     <td>0.073</td>     <td>Prob(JB):</td>     <td>0.783</td>\n",
       "</tr>\n",
       "<tr>\n",
       "     <td>Kurtosis:</td>   <td>2.954</td>  <td>Condition No.:</td>    <td>39</td>  \n",
       "</tr>\n",
       "</table>"
      ],
      "text/plain": [
       "<class 'statsmodels.iolib.summary2.Summary'>\n",
       "\"\"\"\n",
       "                 Results: Ordinary least squares\n",
       "=================================================================\n",
       "Model:              OLS              Adj. R-squared:     0.248   \n",
       "Dependent Variable: Y                AIC:                929.4226\n",
       "Date:               2017-11-20 11:02 BIC:                937.8518\n",
       "No. Observations:   500              Log-Likelihood:     -462.71 \n",
       "Df Model:           1                F-statistic:        165.5   \n",
       "Df Residuals:       498              Prob (F-statistic): 6.63e-33\n",
       "R-squared:          0.249            Scale:              0.37418 \n",
       "-------------------------------------------------------------------\n",
       "             Coef.    Std.Err.      t      P>|t|    [0.025   0.975]\n",
       "-------------------------------------------------------------------\n",
       "Intercept    2.3735     0.2048   11.5885   0.0000   1.9711   2.7759\n",
       "X            0.5265     0.0409   12.8652   0.0000   0.4461   0.6069\n",
       "-----------------------------------------------------------------\n",
       "Omnibus:              0.459        Durbin-Watson:           2.112\n",
       "Prob(Omnibus):        0.795        Jarque-Bera (JB):        0.488\n",
       "Skew:                 0.073        Prob(JB):                0.783\n",
       "Kurtosis:             2.954        Condition No.:           39   \n",
       "=================================================================\n",
       "\n",
       "\"\"\""
      ]
     },
     "execution_count": 5,
     "metadata": {},
     "output_type": "execute_result"
    }
   ],
   "source": [
    "Y, X = dmatrices('Y ~ X', data=df)\n",
    "mod2 = sm.OLS(Y, X)\n",
    "res2 = mod2.fit()\n",
    "res2.summary2()"
   ]
  },
  {
   "cell_type": "markdown",
   "metadata": {},
   "source": [
    "#### Conclusion for case 1\n",
    "for both Y ~ W and Y ~ W the linear regression indicated significant and positive association. Please note that the AIC and BIC are better for Y ~ W.  "
   ]
  },
  {
   "cell_type": "markdown",
   "metadata": {},
   "source": [
    "### Case 2: Intervening variables\n",
    "X → W → Y\n",
    "\n",
    "Example for this case: Good rain season last year (X) resulted in increase in vegetation at the desert (W). As as result, the population of the rabbits has grown (Y).\n",
    "One might assume, that rain causes the increase in rabbit population (X $\\rightarrow$ Y).\n",
    "\n",
    "Lets simulate that:"
   ]
  },
  {
   "cell_type": "code",
   "execution_count": 6,
   "metadata": {
    "collapsed": true
   },
   "outputs": [],
   "source": [
    "df2 = pd.DataFrame()\n",
    "df2['X'] = norm.rvs(size=N)"
   ]
  },
  {
   "cell_type": "code",
   "execution_count": 7,
   "metadata": {
    "collapsed": true
   },
   "outputs": [],
   "source": [
    "a2 = 1\n",
    "b2 = 0.2\n",
    "df2['W'] = a2 + b2 * norm.rvs(size=N, loc=df['X'])\n",
    "df2['Y'] = a2 + b2 * norm.rvs(size=N, loc=df['W'])"
   ]
  },
  {
   "cell_type": "markdown",
   "metadata": {},
   "source": [
    "Now check the relationship between X ~ Y and W ~ W:"
   ]
  },
  {
   "cell_type": "code",
   "execution_count": 8,
   "metadata": {},
   "outputs": [
    {
     "data": {
      "text/html": [
       "<table class=\"simpletable\">\n",
       "<tr>\n",
       "        <td>Model:</td>               <td>OLS</td>         <td>Adj. R-squared:</td>     <td>0.018</td> \n",
       "</tr>\n",
       "<tr>\n",
       "  <td>Dependent Variable:</td>         <td>Y</td>               <td>AIC:</td>         <td>158.7247</td>\n",
       "</tr>\n",
       "<tr>\n",
       "         <td>Date:</td>        <td>2017-11-20 11:02</td>        <td>BIC:</td>         <td>167.1539</td>\n",
       "</tr>\n",
       "<tr>\n",
       "   <td>No. Observations:</td>         <td>500</td>         <td>Log-Likelihood:</td>    <td>-77.362</td>\n",
       "</tr>\n",
       "<tr>\n",
       "       <td>Df Model:</td>              <td>1</td>           <td>F-statistic:</td>       <td>9.963</td> \n",
       "</tr>\n",
       "<tr>\n",
       "     <td>Df Residuals:</td>           <td>498</td>       <td>Prob (F-statistic):</td>  <td>0.00169</td>\n",
       "</tr>\n",
       "<tr>\n",
       "      <td>R-squared:</td>            <td>0.020</td>            <td>Scale:</td>        <td>0.080105</td>\n",
       "</tr>\n",
       "</table>\n",
       "<table class=\"simpletable\">\n",
       "<tr>\n",
       "      <td></td>       <th>Coef.</th>  <th>Std.Err.</th>    <th>t</th>     <th>P>|t|</th> <th>[0.025</th>  <th>0.975]</th> \n",
       "</tr>\n",
       "<tr>\n",
       "  <th>Intercept</th> <td>1.0049</td>   <td>0.0127</td>  <td>79.2869</td> <td>0.0000</td> <td>0.9800</td>  <td>1.0298</td> \n",
       "</tr>\n",
       "<tr>\n",
       "  <th>X</th>         <td>-0.0410</td>  <td>0.0130</td>  <td>-3.1564</td> <td>0.0017</td> <td>-0.0666</td> <td>-0.0155</td>\n",
       "</tr>\n",
       "</table>\n",
       "<table class=\"simpletable\">\n",
       "<tr>\n",
       "     <td>Omnibus:</td>     <td>3.050</td>  <td>Durbin-Watson:</td>   <td>1.985</td>\n",
       "</tr>\n",
       "<tr>\n",
       "  <td>Prob(Omnibus):</td>  <td>0.218</td> <td>Jarque-Bera (JB):</td> <td>2.748</td>\n",
       "</tr>\n",
       "<tr>\n",
       "       <td>Skew:</td>     <td>-0.106</td>     <td>Prob(JB):</td>     <td>0.253</td>\n",
       "</tr>\n",
       "<tr>\n",
       "     <td>Kurtosis:</td>    <td>2.705</td>  <td>Condition No.:</td>     <td>1</td>  \n",
       "</tr>\n",
       "</table>"
      ],
      "text/plain": [
       "<class 'statsmodels.iolib.summary2.Summary'>\n",
       "\"\"\"\n",
       "                 Results: Ordinary least squares\n",
       "=================================================================\n",
       "Model:              OLS              Adj. R-squared:     0.018   \n",
       "Dependent Variable: Y                AIC:                158.7247\n",
       "Date:               2017-11-20 11:02 BIC:                167.1539\n",
       "No. Observations:   500              Log-Likelihood:     -77.362 \n",
       "Df Model:           1                F-statistic:        9.963   \n",
       "Df Residuals:       498              Prob (F-statistic): 0.00169 \n",
       "R-squared:          0.020            Scale:              0.080105\n",
       "------------------------------------------------------------------\n",
       "               Coef.   Std.Err.     t     P>|t|    [0.025   0.975]\n",
       "------------------------------------------------------------------\n",
       "Intercept      1.0049    0.0127  79.2869  0.0000   0.9800   1.0298\n",
       "X             -0.0410    0.0130  -3.1564  0.0017  -0.0666  -0.0155\n",
       "-----------------------------------------------------------------\n",
       "Omnibus:               3.050        Durbin-Watson:          1.985\n",
       "Prob(Omnibus):         0.218        Jarque-Bera (JB):       2.748\n",
       "Skew:                  -0.106       Prob(JB):               0.253\n",
       "Kurtosis:              2.705        Condition No.:          1    \n",
       "=================================================================\n",
       "\n",
       "\"\"\""
      ]
     },
     "execution_count": 8,
     "metadata": {},
     "output_type": "execute_result"
    }
   ],
   "source": [
    "Y, X = dmatrices('Y ~ X', data=df2)\n",
    "mod3 = sm.OLS(Y, X)\n",
    "res3 = mod3.fit()\n",
    "res3.summary2()"
   ]
  },
  {
   "cell_type": "code",
   "execution_count": 9,
   "metadata": {},
   "outputs": [
    {
     "data": {
      "text/html": [
       "<table class=\"simpletable\">\n",
       "<tr>\n",
       "        <td>Model:</td>               <td>OLS</td>         <td>Adj. R-squared:</td>     <td>0.025</td> \n",
       "</tr>\n",
       "<tr>\n",
       "  <td>Dependent Variable:</td>         <td>Y</td>               <td>AIC:</td>         <td>155.0097</td>\n",
       "</tr>\n",
       "<tr>\n",
       "         <td>Date:</td>        <td>2017-11-20 11:02</td>        <td>BIC:</td>         <td>163.4389</td>\n",
       "</tr>\n",
       "<tr>\n",
       "   <td>No. Observations:</td>         <td>500</td>         <td>Log-Likelihood:</td>    <td>-75.505</td>\n",
       "</tr>\n",
       "<tr>\n",
       "       <td>Df Model:</td>              <td>1</td>           <td>F-statistic:</td>       <td>13.75</td> \n",
       "</tr>\n",
       "<tr>\n",
       "     <td>Df Residuals:</td>           <td>498</td>       <td>Prob (F-statistic):</td> <td>0.000232</td>\n",
       "</tr>\n",
       "<tr>\n",
       "      <td>R-squared:</td>            <td>0.027</td>            <td>Scale:</td>        <td>0.079512</td>\n",
       "</tr>\n",
       "</table>\n",
       "<table class=\"simpletable\">\n",
       "<tr>\n",
       "      <td></td>       <th>Coef.</th> <th>Std.Err.</th>    <th>t</th>    <th>P>|t|</th> <th>[0.025</th> <th>0.975]</th>\n",
       "</tr>\n",
       "<tr>\n",
       "  <th>Intercept</th> <td>0.6068</td>  <td>0.1075</td>  <td>5.6437</td> <td>0.0000</td> <td>0.3956</td> <td>0.8181</td>\n",
       "</tr>\n",
       "<tr>\n",
       "  <th>W</th>         <td>0.1996</td>  <td>0.0538</td>  <td>3.7083</td> <td>0.0002</td> <td>0.0939</td> <td>0.3054</td>\n",
       "</tr>\n",
       "</table>\n",
       "<table class=\"simpletable\">\n",
       "<tr>\n",
       "     <td>Omnibus:</td>     <td>1.610</td>  <td>Durbin-Watson:</td>   <td>1.970</td>\n",
       "</tr>\n",
       "<tr>\n",
       "  <td>Prob(Omnibus):</td>  <td>0.447</td> <td>Jarque-Bera (JB):</td> <td>1.547</td>\n",
       "</tr>\n",
       "<tr>\n",
       "       <td>Skew:</td>     <td>-0.055</td>     <td>Prob(JB):</td>     <td>0.461</td>\n",
       "</tr>\n",
       "<tr>\n",
       "     <td>Kurtosis:</td>    <td>2.751</td>  <td>Condition No.:</td>    <td>21</td>  \n",
       "</tr>\n",
       "</table>"
      ],
      "text/plain": [
       "<class 'statsmodels.iolib.summary2.Summary'>\n",
       "\"\"\"\n",
       "                 Results: Ordinary least squares\n",
       "=================================================================\n",
       "Model:              OLS              Adj. R-squared:     0.025   \n",
       "Dependent Variable: Y                AIC:                155.0097\n",
       "Date:               2017-11-20 11:02 BIC:                163.4389\n",
       "No. Observations:   500              Log-Likelihood:     -75.505 \n",
       "Df Model:           1                F-statistic:        13.75   \n",
       "Df Residuals:       498              Prob (F-statistic): 0.000232\n",
       "R-squared:          0.027            Scale:              0.079512\n",
       "-------------------------------------------------------------------\n",
       "              Coef.    Std.Err.     t      P>|t|    [0.025   0.975]\n",
       "-------------------------------------------------------------------\n",
       "Intercept     0.6068     0.1075   5.6437   0.0000   0.3956   0.8181\n",
       "W             0.1996     0.0538   3.7083   0.0002   0.0939   0.3054\n",
       "-----------------------------------------------------------------\n",
       "Omnibus:               1.610        Durbin-Watson:          1.970\n",
       "Prob(Omnibus):         0.447        Jarque-Bera (JB):       1.547\n",
       "Skew:                  -0.055       Prob(JB):               0.461\n",
       "Kurtosis:              2.751        Condition No.:          21   \n",
       "=================================================================\n",
       "\n",
       "\"\"\""
      ]
     },
     "execution_count": 9,
     "metadata": {},
     "output_type": "execute_result"
    }
   ],
   "source": [
    "Y, W = dmatrices('Y ~ W', data=df2)\n",
    "mod4 = sm.OLS(Y, W)\n",
    "res4 = mod4.fit()\n",
    "res4.summary2()"
   ]
  },
  {
   "cell_type": "markdown",
   "metadata": {},
   "source": [
    "This time, the linear regression between X ~ Y doesn't look very promising, with a very small coefficient for X and a large P value. The short conclusion is, that intervening variables are easier to detect (is that always true?)."
   ]
  }
 ],
 "metadata": {
  "kernelspec": {
   "display_name": "Python 3.6",
   "language": "python",
   "name": "python36"
  },
  "language_info": {
   "codemirror_mode": {
    "name": "ipython",
    "version": 3
   },
   "file_extension": ".py",
   "mimetype": "text/x-python",
   "name": "python",
   "nbconvert_exporter": "python",
   "pygments_lexer": "ipython3",
   "version": "3.6.2"
  }
 },
 "nbformat": 4,
 "nbformat_minor": 2
}
